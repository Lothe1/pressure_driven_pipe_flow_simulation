{
 "cells": [
  {
   "cell_type": "markdown",
   "metadata": {},
   "source": [
    "Solve equation of fluid motion in a pressure driven pipw flow with periodic boundary condition on both end (starts looping when end is reached to start). If started with an intial uniform profile, the Hagen-Poisenuille parabula profile will develop over time.\n",
    "\n",
    "Momemtum = ∂u/∂t + (u ⋅ ∇) u = − 1/ρ ∇p + ν ∇²u + f\n",
    "\n",
    "Incompressibility:  ∇ ⋅ u = 0\n",
    "\n",
    "u:  Velocity (2d vector)\n",
    "\n",
    "p:  Pressure\n",
    "\n",
    "f:  Forcing (here =0)\n",
    "\n",
    "ν:  Kinematic Viscosity\n",
    "\n",
    "ρ:  Density\n",
    "\n",
    "t:  Time\n",
    "\n",
    "∇:  Nabla operator (defining nonlinear convection, \n",
    "gradient and divergence)\n",
    "\n",
    "∇²: Laplace Operator\n",
    "\n",
    "Scenario:\n",
    " infinitely long tube where it is periodic, the leaving fluid, left from the pipe will reenters the entering wall. \n",
    " \n",
    " \n"
   ]
  },
  {
   "cell_type": "code",
   "execution_count": 23,
   "metadata": {},
   "outputs": [
    {
     "data": {
      "text/plain": [
       "'\\nScenario\\n\\n                  constant pressure gradient\\n                    <<<<<<<<<<------------\\n\\n                        wall: u=0, v=0\\n   p    +-----------------------------------------------+   p\\n   e    |  -->      -->       -->        -->      -->   |   e\\n   r    |                                               |   r\\n   i    |  -->      -->       -->        -->      -->   |   i\\n   o    |                                               |   o\\n   d    |  -->      -->       -->        -->      -->   |   d\\n   i    +-----------------------------------------------+   i\\n   c                    wall: u=0, v=0                      c\\n\\n-> A rectangular domain (think of a slice from a pipe with\\n   circular crossection alongside the longitudal axis)\\n-> The left and right edge are connected by periodicity,\\n   representing an infinitely long domain in x axis\\n-> Top and bottom edge represent wall boundary conditions\\n-> A constant pressure gradient (in x direction) acts on the\\n   entire domain\\n'"
      ]
     },
     "execution_count": 23,
     "metadata": {},
     "output_type": "execute_result"
    }
   ],
   "source": [
    "'''\n",
    "Scenario\n",
    "\n",
    "                  constant pressure gradient\n",
    "                    <<<<<<<<<<------------\n",
    "\n",
    "                        wall: u=0, v=0\n",
    "   p    +-----------------------------------------------+   p\n",
    "   e    |  -->      -->       -->        -->      -->   |   e\n",
    "   r    |                                               |   r\n",
    "   i    |  -->      -->       -->        -->      -->   |   i\n",
    "   o    |                                               |   o\n",
    "   d    |  -->      -->       -->        -->      -->   |   d\n",
    "   i    +-----------------------------------------------+   i\n",
    "   c                    wall: u=0, v=0                      c\n",
    "\n",
    "-> A rectangular domain (think of a slice from a pipe with\n",
    "   circular crossection alongside the longitudal axis)\n",
    "-> The left and right edge are connected by periodicity,\n",
    "   representing an infinitely long domain in x axis\n",
    "-> Top and bottom edge represent wall boundary conditions\n",
    "-> A constant pressure gradient (in x direction) acts on the\n",
    "   entire domain\n",
    "\n",
    "After a while, the expected outcome would be a parabola \n",
    "flow, due to boundary layer developing by the viscous effects of the fluid.\n",
    "Thiis wont affect total mass flux in the simulation \n",
    "'''"
   ]
  },
  {
   "cell_type": "markdown",
   "metadata": {},
   "source": [
    "\n",
    "Solution strategy:\n",
    "\n",
    "We do not have to consider the velocity in y, since it is 0 in this current setup, therefore its derivative is 0 in the current computational domain.\n",
    "\n",
    "Discretization of the u-momentum equation\n",
    "\n",
    "    ∂u/∂t + u ∂u/∂x + v ∂u/∂y = - ∂p/∂x + ν ∇²u\n",
    "                |     |             |       |\n",
    "                |     ↓             ↓       |\n",
    "                |    = 0        constant    |\n",
    "                |                           |\n",
    "                ↓                           ↓\n",
    "        central differences         five-point stencil\n",
    "\n",
    "\n",
    "0. Instantiate the u-solution field with ones except for\n",
    "   the top and bottom boundary\n",
    "\n",
    "1. Compute convection by periodic central difference\n",
    "\n",
    "    u ∂u/∂x ≈ u[i, j] ⋅ (u[i, (j+1)%N] − u[i, (j−1)%N]) / (2 dx)\n",
    "\n",
    "2. Compute diffusion by periodic five-point stencil\n",
    "\n",
    "    ν ∇²u ≈ ν (\n",
    "        + u[i, (j+1)%N]\n",
    "        + u[(i+1)%N, j]\n",
    "        + u[i, (j−1)%N]\n",
    "        + u[(i−1)%N, j]\n",
    "        − 4 ⋅ u[i, j]\n",
    "        ) / (dx²)\n",
    "\n",
    "3. Advance to next step by explicit Euler step\n",
    "\n",
    "    u ← u + dt ⋅ (− ∂p/∂x + ν ∇²u − u ∂u/∂x)\n",
    "\n",
    "4. Enfore the wall boundary condition by setting the u velocity\n",
    "   at the top and bottom boundary to zero\n",
    "\n",
    "5. Repeat from (1.) until a steady state is reached.\n",
    "\n",
    "\n",
    "No pressure correction equation has to be solved since the\n",
    "pressure gradient is prescribed constant throughout the domain.\n"
   ]
  },
  {
   "cell_type": "code",
   "execution_count": 27,
   "metadata": {},
   "outputs": [],
   "source": [
    "# import the necessary packages\n",
    "import numpy as np\n",
    "import matplotlib.pyplot as plt\n",
    "from tqdm import tqdm\n",
    "N_POINTS = 11\n",
    "KINEMATIC_VISCOUSITY = 0.01\n",
    "TIME_STEP_LENGTH = 0.2\n",
    "N_TIME_STEPS = 100\n",
    "\n",
    "PRESSURE_GRADIENT = np.array([-1.0, 0.0])"
   ]
  },
  {
   "cell_type": "code",
   "execution_count": 11,
   "metadata": {},
   "outputs": [],
   "source": [
    "element_length = 1.0 / (N_POINTS - 1)\n",
    "x_range = np.linspace(0, 1, N_POINTS)\n",
    "y_range = np.linspace(0, 1, N_POINTS)\n",
    "# make a meshgrid to represent the points in the domain\n",
    "coordinates_x, coordinates_y = np.meshgrid(x_range, y_range)\n",
    "\n"
   ]
  },
  {
   "cell_type": "code",
   "execution_count": 4,
   "metadata": {},
   "outputs": [],
   "source": [
    "# Return central difference, but make it periodic using np.roll to % the result, operation is partial u on x\n",
    "# This is the first step\n",
    "def central_different_x_periodic(field):\n",
    "    diff = (\n",
    "        (\n",
    "            np.roll(field, shift = 1, axis = 1)\n",
    "            -\n",
    "            np.roll(field, shift = -1, axis = 1)\n",
    "        ) / (2 * element_length)\n",
    "    )\n",
    "    return diff\n",
    "\n",
    "def laplace_periodic(field):\n",
    "    diff = (\n",
    "        np.roll(field, shift = 1, axis = 1)\n",
    "        +\n",
    "        np.roll(field, shift = -1, axis = 1)\n",
    "        +\n",
    "        np.roll(field, shift = 1, axis = 0)\n",
    "        +\n",
    "        np.roll(field, shift = -1, axis = 0)\n",
    "        -\n",
    "        4 * field\n",
    "    ) / (element_length ** 2)\n",
    "    return diff"
   ]
  },
  {
   "cell_type": "code",
   "execution_count": 26,
   "metadata": {},
   "outputs": [
    {
     "name": "stderr",
     "output_type": "stream",
     "text": [
      "  0%|          | 0/100 [00:00<?, ?it/s]/var/folders/bf/xd2nsc5x5qgdz2fsmfpd2dtw0000gn/T/ipykernel_74598/914554675.py:41: UserWarning: The following kwargs were not used by contour: 'level'\n",
      "  plt.contourf(coordinates_x, coordinates_y, velocity_x_prev, level = 50)\n",
      "100%|██████████| 100/100 [00:07<00:00, 14.18it/s]\n"
     ]
    },
    {
     "data": {
      "text/plain": [
       "<Figure size 640x480 with 0 Axes>"
      ]
     },
     "metadata": {},
     "output_type": "display_data"
    }
   ],
   "source": [
    "from matplotlib.animation import PillowWriter\n",
    "\n",
    "# Animation stuff\n",
    "writedata = dict(title = \"Pressure_Driven_pipe_flow\", artist = \"me\")\n",
    "writer = PillowWriter(fps = 10, metadata = writedata)\n",
    "\n",
    "# Initial conditions\n",
    "velocity_x_prev = np.ones((N_POINTS, N_POINTS))\n",
    "# the bottom edge\n",
    "velocity_x_prev[0, :] = 0\n",
    "velocity_x_prev[-1, :] = 0\n",
    "\n",
    "# Setup the figure and axis \n",
    "fig = plt.figure()\n",
    "\n",
    "# Do the animation and save it as a gif on the same directory\n",
    "with writer.saving(fig, \"Pressure_Driven_pipe_flow.gif\", 100):\n",
    "    for iter in tqdm(range(N_TIME_STEPS)):\n",
    "        convection_x = velocity_x_prev * central_different_x_periodic(velocity_x_prev)\n",
    "        diffusion_x = KINEMATIC_VISCOUSITY * laplace_periodic(velocity_x_prev)  \n",
    "        \n",
    "        velocity_x_next = (\n",
    "            velocity_x_prev\n",
    "            +\n",
    "            TIME_STEP_LENGTH\n",
    "            *(\n",
    "                -PRESSURE_GRADIENT[0]\n",
    "                +\n",
    "                diffusion_x\n",
    "                -\n",
    "                convection_x\n",
    "            )\n",
    "        )\n",
    "        \n",
    "        velocity_x_next[0, :] = 0.0\n",
    "        velocity_x_next[-1, :]  = 0.0\n",
    "        \n",
    "        # Advance in time\n",
    "        velocity_x_prev = velocity_x_next\n",
    "         # Rendering\n",
    "        plt.contourf(coordinates_x, coordinates_y, velocity_x_prev, level = 50)\n",
    "        #  Show the color of each velocity\n",
    "        plt.colorbar()\n",
    "        # Vector plot\n",
    "        plt.quiver(coordinates_x, coordinates_y, velocity_x_next, np.zeros_like(velocity_x_next))\n",
    "        \n",
    "        plt.twiny()\n",
    "        plt.plot(velocity_x_next[:, 1], coordinates_y[:,1], color = \"white\")\n",
    "        plt.draw()\n",
    "        # Rendering\n",
    "        contour = plt.contourf(coordinates_x, coordinates_y, velocity_x_prev, levels=50)\n",
    "        quiver = plt.quiver(coordinates_x, coordinates_y, velocity_x_next, np.zeros_like(velocity_x_next))\n",
    "        writer.grab_frame()\n",
    "        plt.clf()\n",
    "\n",
    "    \n",
    "\n"
   ]
  }
 ],
 "metadata": {
  "kernelspec": {
   "display_name": "base",
   "language": "python",
   "name": "python3"
  },
  "language_info": {
   "codemirror_mode": {
    "name": "ipython",
    "version": 3
   },
   "file_extension": ".py",
   "mimetype": "text/x-python",
   "name": "python",
   "nbconvert_exporter": "python",
   "pygments_lexer": "ipython3",
   "version": "3.11.7"
  }
 },
 "nbformat": 4,
 "nbformat_minor": 2
}
