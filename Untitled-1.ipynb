{
 "cells": [
  {
   "cell_type": "markdown",
   "metadata": {},
   "source": [
    "Solve equation of fluid motino in a pressure driven pip flow with periodic boundary condition on both end. If started with an intial uniform profile, the Hagen-Poisenuille parabula profile will develop over time.\n",
    "\n",
    "\n",
    "Scenario:\n",
    " infinitely long tube where it is periodic, the leaving fluid, left from the pioe will reeters the entering wall"
   ]
  },
  {
   "cell_type": "code",
   "execution_count": null,
   "metadata": {},
   "outputs": [],
   "source": []
  },
  {
   "cell_type": "markdown",
   "metadata": {},
   "source": [
    "Steps\n",
    "\n",
    "0. Initamtoze the u-solution filed with ones expect for the top and bottom boundary\n",
    "1. Compute convectino by periodic central differnce\n",
    "2. Compute diffusion by periodic five-point stencil\n",
    "3. Advance to next step by Euler step\n",
    "4. Enfore the wall boundary condition by setting the u velocity at the top and the bottom boundary to zero\n",
    "5. Repeat from (1.) until a steady state is reached.\n",
    "\n",
    "NO pressure correction equation has to be solved since the pressure gradient is prescibe constant through the domain\n"
   ]
  },
  {
   "cell_type": "markdown",
   "metadata": {},
   "source": []
  },
  {
   "cell_type": "code",
   "execution_count": 1,
   "metadata": {},
   "outputs": [],
   "source": [
    "# import the necessary packages\n",
    "import numpy as np\n",
    "import matplotlib.pyplot as plt\n",
    "import tqdm as tqdm\n",
    "\n",
    "N_POINTS = 11\n",
    "KINEMATIC_VISCOUSITY = 0.01\n",
    "TIME_STEP_LENGTH = 0.2\n",
    "N_TIME_STEPS = 100\n",
    "\n",
    "PRESSURE_GRADIENT = np.array([-1.0, 0.0])"
   ]
  },
  {
   "cell_type": "code",
   "execution_count": null,
   "metadata": {},
   "outputs": [],
   "source": [
    "element_length = 1.0 / (N_POINTS - 1)\n",
    "x_range = np.linspace(0, 1, N_POINTS)\n",
    "y_range = np.linspace(0, 1, N_POINTS)\n",
    "# make a meshgrid to represent the points in the domain\n",
    "coordinates_x, coordinates_y = np.meshgrid(x_range, y_range)\n",
    "\n"
   ]
  },
  {
   "cell_type": "code",
   "execution_count": null,
   "metadata": {},
   "outputs": [],
   "source": [
    "# Return central difference, but make it periodic using np.roll to % the result, operation is partial u on x\n",
    "# This is the first step\n",
    "def central_different_x_periodic(field):\n",
    "    diff = (\n",
    "        (\n",
    "            np.roll(field, shift = 1, axis = 1)\n",
    "            -\n",
    "            np.roll(field, shift = -1, axis = 1)\n",
    "        ) / (2 * element_length)\n",
    "    )\n",
    "    return diff\n",
    "\n",
    "def laplace_periodic(field):\n",
    "    diff = (\n",
    "        np.roll(field, shift = 1, axis = 1)\n",
    "        +\n",
    "        np.roll(field, shift = -1, axis = 1)\n",
    "        +\n",
    "        np.roll(field, shift = 1, axis = 0)\n",
    "        +\n",
    "        np.roll(field, shift = -1, axis = 0)\n",
    "        -\n",
    "        4 * field\n",
    "    ) / (element_length ** 2)\n",
    "    return diff"
   ]
  },
  {
   "cell_type": "code",
   "execution_count": null,
   "metadata": {},
   "outputs": [],
   "source": [
    "# Initial conditions\n",
    "velocity_x_prev = np.ones((N_POINTS, N_POINTS))\n",
    "# the bottom edge\n",
    "velocity_x_prev[0, :] = 0\n",
    "velocity_x_prev[-1, :] = 0\n",
    "\n",
    "# main loop\n",
    "for i in tqdm(range(N_TIME_STEPS)):\n",
    "    convection_x = velocity_x_prev * central_different_x_periodic(velocity_x_prev)\n",
    "    diffusion_x = KINEMATIC_VISCOUSITY * laplace_periodic(velocity_x_prev)  \n",
    "    \n",
    "    velocity_x_next = (\n",
    "        velocity_x_prev\n",
    "        +\n",
    "        TIME_STEP_LENGTH\n",
    "        *(\n",
    "            -PRESSURE_GRADIENT[0]\n",
    "            +\n",
    "            diffusion_x\n",
    "            -\n",
    "            convection_x\n",
    "        )\n",
    "    )\n",
    "\n",
    "    velocity_x_next[0, :] = 0.0\n",
    "    velocity_x_next[-1, :]  = 0.0\n",
    "\n",
    "    # Advance in time\n",
    "    velocity_x_prev = velocity_x_next\n",
    "\n",
    "    # Rendering\n",
    "    plt.contourf(coordinates_x, coordinates_y, velocity_x_prev)\n",
    "\n",
    "    \n",
    "    \n",
    "\n"
   ]
  }
 ],
 "metadata": {
  "kernelspec": {
   "display_name": "base",
   "language": "python",
   "name": "python3"
  },
  "language_info": {
   "codemirror_mode": {
    "name": "ipython",
    "version": 3
   },
   "file_extension": ".py",
   "mimetype": "text/x-python",
   "name": "python",
   "nbconvert_exporter": "python",
   "pygments_lexer": "ipython3",
   "version": "3.11.7"
  }
 },
 "nbformat": 4,
 "nbformat_minor": 2
}
