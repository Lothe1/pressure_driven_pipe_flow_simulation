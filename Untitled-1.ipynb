{
 "cells": [
  {
   "cell_type": "markdown",
   "metadata": {},
   "source": [
    "Solve equation of fluid motino in a pressure driven pip flow with periodic boundary condition on both end. If started with an intial uniform profile, the Hagen-Poisenuille parabula profile will develop over time.\n",
    "\n",
    "\n",
    "Scenario:\n",
    " infinitely long tube where it is periodic, the leaving fluid, left from the pioe will reeters the entering wall"
   ]
  },
  {
   "cell_type": "code",
   "execution_count": null,
   "metadata": {},
   "outputs": [],
   "source": []
  }
 ],
 "metadata": {
  "language_info": {
   "name": "python"
  }
 },
 "nbformat": 4,
 "nbformat_minor": 2
}
