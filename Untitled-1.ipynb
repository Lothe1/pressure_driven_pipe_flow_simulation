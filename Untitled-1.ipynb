{
 "cells": [
  {
   "cell_type": "markdown",
   "metadata": {},
   "source": [
    "Solve equation of fluid motino in a pressure driven pip flow with periodic boundary condition on both end. If started with an intial uniform profile, the Hagen-Poisenuille parabula profile will develop over time.\n",
    "\n",
    "\n",
    "Scenario:\n",
    " infinitely long tube where it is periodic, the leaving fluid, left from the pioe will reeters the entering wall"
   ]
  },
  {
   "cell_type": "code",
   "execution_count": null,
   "metadata": {},
   "outputs": [],
   "source": []
  },
  {
   "cell_type": "markdown",
   "metadata": {},
   "source": [
    "Steps\n",
    "\n",
    "0. Initamtoze the u-solution filed with ones expect for the top and bottom boundary\n",
    "1. Compute convectino by periodic central differnce\n",
    "2. Compute diffusion by periodic five-point stencil\n",
    "3. Advance to next step by Euler step\n",
    "4. Enfore the wall boundary condition by setting the u velocity at the top and the bottom boundary to zero\n",
    "5. Repeat from (1.) until a steady state is reached.\n",
    "\n",
    "NO pressure correction equation has to be solved since the pressure gradient is prescibe constant through the domain\n"
   ]
  },
  {
   "cell_type": "markdown",
   "metadata": {},
   "source": []
  },
  {
   "cell_type": "code",
   "execution_count": null,
   "metadata": {},
   "outputs": [],
   "source": [
    "# import the necessary packages\n",
    "import numpy as np\n",
    "import matplotlib.pyplot as plt\n",
    "import tqdm as tqdm\n",
    "\n",
    "N_POINTS = 11\n",
    "KINEMATIC_VISCOUSITY = 0.01\n",
    "TIME_STEP_LENGTH = 0.2\n",
    "N_TIME_STEPS = 100\n",
    "\n",
    "PRESSURE_GRADIENT = np.array([-1.0, 0.0])"
   ]
  }
 ],
 "metadata": {
  "language_info": {
   "name": "python"
  }
 },
 "nbformat": 4,
 "nbformat_minor": 2
}
